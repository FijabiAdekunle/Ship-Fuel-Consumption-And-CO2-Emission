{
 "cells": [
  {
   "cell_type": "markdown",
   "id": "79078c96-9e48-4560-a9a8-dc2799ba18cd",
   "metadata": {},
   "source": [
    "# Images of Ship Type \n",
    "- The images & description of ship type featured in the dataset"
   ]
  },
  {
   "cell_type": "markdown",
   "id": "f306f46b-6494-42f7-8ceb-91031c5983ea",
   "metadata": {},
   "source": [
    "\n",
    "<img src='https://i.postimg.cc/CxpFNMyy/Fishing-Trawler.jpg' alt='fishing trawler boat' width= 600 height=100>\n",
    "\n",
    "\n",
    "**Fishing Trawler**: A fishing trawler is a type of boat used for commercial fishing. It is equipped with large nets that are dragged through the water to catch fish, often used in deep-sea fishing."
   ]
  },
  {
   "cell_type": "markdown",
   "id": "60f5794a-4d43-46dc-a6e5-234b630cf171",
   "metadata": {},
   "source": [
    "<img src='https://i.postimg.cc/nLHpydc0/Oil-Service-Boat.jpg'  alt='Supply Boat' width=600 height=90>\n",
    "\n",
    "**Oil Service Boat**: An oil service boat is a vessel that supports offshore oil rigs or platforms by transporting personnel, equipment, and supplies. They are essential for offshore oil operations"
   ]
  },
  {
   "cell_type": "markdown",
   "id": "7116edd5-7dc8-463c-afaf-73d6b7a2d989",
   "metadata": {},
   "source": [
    "<img src='https://i.postimg.cc/s2wsspMy/Surfer-Boat.jpg' alt='Surfer Baot' width=600 heigth=20>\n",
    "\n",
    "**Surfer Boat**: A surfer boat is typically a small, fast boat designed for passengers transfer on & offshore"
   ]
  },
  {
   "cell_type": "markdown",
   "id": "56837fbc-e5b6-496e-98f5-43e1cbd1ec38",
   "metadata": {},
   "source": [
    "<img src='https://i.postimg.cc/SsRqsJ99/Tanker-Ship.jpg' alt='Oil Tanker Ship' width=600 height=30>\n",
    "\n",
    "**Tanker Ship**: A tanker ship is a large vessel designed to transport liquid cargo, such as oil, chemicals, or liquefied natural gas (LNG). They are essential for global trade and the shipping of bulk liquids."
   ]
  },
  {
   "cell_type": "code",
   "execution_count": null,
   "id": "2421fa29-d5a0-43f2-b45a-6373fbde450c",
   "metadata": {},
   "outputs": [],
   "source": []
  }
 ],
 "metadata": {
  "kernelspec": {
   "display_name": "Python 3 (ipykernel)",
   "language": "python",
   "name": "python3"
  },
  "language_info": {
   "codemirror_mode": {
    "name": "ipython",
    "version": 3
   },
   "file_extension": ".py",
   "mimetype": "text/x-python",
   "name": "python",
   "nbconvert_exporter": "python",
   "pygments_lexer": "ipython3",
   "version": "3.12.4"
  }
 },
 "nbformat": 4,
 "nbformat_minor": 5
}
